{
 "cells": [
  {
   "attachments": {},
   "cell_type": "markdown",
   "metadata": {},
   "source": [
    "# Usage\n",
    "\n",
    "Here are linked examples for:\n",
    "\n",
    "- [Single-objective problems](./Single-objective.ipynb)\n",
    "- [Multi-objective problems](./Multi-objective.ipynb)\n",
    "- [Many-objective problems](./Many-objective.ipynb)\n",
    "- [Complete tutorial](./Complete-tutorial.ipynb)\n",
    "- [Portfolio selection](./Portfolio.ipynb)\n",
    "\n",
    "Enjoy!"
   ]
  }
 ],
 "metadata": {
  "kernelspec": {
   "display_name": "venv",
   "language": "python",
   "name": "python3"
  },
  "language_info": {
   "name": "python",
   "version": "3.9.7 (tags/v3.9.7:1016ef3, Aug 30 2021, 20:19:38) [MSC v.1929 64 bit (AMD64)]"
  },
  "orig_nbformat": 4,
  "vscode": {
   "interpreter": {
    "hash": "b918b2b0974b3df50d2cb6c751b8eaae1bb466aaf5007e6a0fab3d6d8f3e624b"
   }
  }
 },
 "nbformat": 4,
 "nbformat_minor": 2
}
