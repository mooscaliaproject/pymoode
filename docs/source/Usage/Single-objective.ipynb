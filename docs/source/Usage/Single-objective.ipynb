{
 "cells": [
  {
   "attachments": {},
   "cell_type": "markdown",
   "metadata": {},
   "source": [
    "# Single-objective"
   ]
  },
  {
   "cell_type": "code",
   "execution_count": 1,
   "metadata": {},
   "outputs": [],
   "source": [
    "from pymoo.algorithms.soo.nonconvex.pso import PSO\n",
    "from pymoo.optimize import minimize\n",
    "from pymoo.problems import get_problem\n",
    "from pymoode.algorithms import GDE3\n",
    "from pymoode.algorithms import DE"
   ]
  },
  {
   "cell_type": "code",
   "execution_count": 2,
   "metadata": {},
   "outputs": [],
   "source": [
    "problem = get_problem(\"rastrigin\")"
   ]
  },
  {
   "cell_type": "code",
   "execution_count": 3,
   "metadata": {},
   "outputs": [],
   "source": [
    "NGEN = 100\n",
    "POPSIZE = 20\n",
    "SEED = 3"
   ]
  },
  {
   "cell_type": "code",
   "execution_count": 4,
   "metadata": {},
   "outputs": [],
   "source": [
    "# DE Parameters\n",
    "CR = 0.5\n",
    "F = (0.3, 1.0)"
   ]
  },
  {
   "cell_type": "code",
   "execution_count": 5,
   "metadata": {},
   "outputs": [
    {
     "name": "stdout",
     "output_type": "stream",
     "text": [
      "[1.42108547e-14]\n"
     ]
    }
   ],
   "source": [
    "de = DE(pop_size=POPSIZE, variant=\"DE/rand/1/bin\", CR=CR, F=F)\n",
    "\n",
    "res_de = minimize(\n",
    "    problem,\n",
    "    de,\n",
    "    ('n_gen', NGEN),\n",
    "    seed=SEED,\n",
    "    save_history=False,\n",
    "    verbose=False,\n",
    ")\n",
    "\n",
    "print(res_de.F)"
   ]
  },
  {
   "cell_type": "code",
   "execution_count": 6,
   "metadata": {},
   "outputs": [
    {
     "name": "stdout",
     "output_type": "stream",
     "text": [
      "[2.00159889e-11]\n"
     ]
    }
   ],
   "source": [
    "pso = PSO(pop_size=POPSIZE)\n",
    "\n",
    "res_pso = minimize(\n",
    "    problem,\n",
    "    pso,\n",
    "    ('n_gen', NGEN),\n",
    "    seed=SEED,\n",
    "    save_history=False,\n",
    "    verbose=False,\n",
    ")\n",
    "\n",
    "print(res_pso.F)"
   ]
  },
  {
   "cell_type": "code",
   "execution_count": null,
   "metadata": {},
   "outputs": [],
   "source": []
  }
 ],
 "metadata": {
  "kernelspec": {
   "display_name": "Python 3.9.7 ('venv': venv)",
   "language": "python",
   "name": "python3"
  },
  "language_info": {
   "codemirror_mode": {
    "name": "ipython",
    "version": 3
   },
   "file_extension": ".py",
   "mimetype": "text/x-python",
   "name": "python",
   "nbconvert_exporter": "python",
   "pygments_lexer": "ipython3",
   "version": "3.9.7 (tags/v3.9.7:1016ef3, Aug 30 2021, 20:19:38) [MSC v.1929 64 bit (AMD64)]"
  },
  "orig_nbformat": 4,
  "vscode": {
   "interpreter": {
    "hash": "b918b2b0974b3df50d2cb6c751b8eaae1bb466aaf5007e6a0fab3d6d8f3e624b"
   }
  }
 },
 "nbformat": 4,
 "nbformat_minor": 2
}
