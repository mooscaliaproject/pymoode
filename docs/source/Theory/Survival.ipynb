{
 "cells": [
  {
   "attachments": {},
   "cell_type": "markdown",
   "metadata": {},
   "source": [
    "# Survival\n",
    "\n",
    "The general theory of pymoode's survival operators is presented throughout this section, although code details should be better addressed in their [corresponding section](../pymoode.survival.rst)."
   ]
  },
  {
   "attachments": {},
   "cell_type": "markdown",
   "metadata": {},
   "source": [
    "## Single-objective\n",
    "\n",
    "In single-objective DE, to decide if a trial vector $u_i$ should become a member of the next generation, it is compared to the corresponding target vector $x_i$ using a greedy criterion <cite data-cite=\"de_article\"></cite>. If $u_i$ outperforms $x_i$, it proceeds to the next generation and $x_i$ is removed.\n",
    "\n",
    "Until version 0.2.4, the one-to-one comparison in DE was performed using pymoo's ``ImprovementReplacement`` class. Now the user can parse its own survival operator to single-objective DE via the ``survival`` argument. It is recommended that the new operator is inherited from ``pymoode.survival.replacement.BaseReplacement``.\n",
    "\n",
    "<p align=\"center\">\n",
    "  <img src=\"https://github.com/mooscaliaproject/pymoode/raw/main/images/rastrigin.png\"\n",
    "    alt=\"tnk_gde3\" width=\"420\" height=\"350\"/>\n",
    "</p>"
   ]
  },
  {
   "attachments": {},
   "cell_type": "markdown",
   "metadata": {},
   "source": [
    "## Multi-objective algorithms\n",
    "\n",
    "The one-to-one comparison might be inadequate in multi-objective problems and is usually replaced by other survival strategies.\n",
    "\n",
    "GDE3 <cite data-cite=\"gde3\"></cite> and NSDE are two multi-objective variants of DE using Nondominated Sorting and crowding metrics <cite data-cite=\"nsga2\"></cite> in the survival stage. They share the same reproduction operators, although different in their survival strategies.\n",
    "\n",
    "Whereas NSDE uses a full (µ+λ) survival strategy, which combines the parent population with offspring, GDE3 has a one-to-one comparison between each member in the parent population and its corresponding trial vector before truncating the population into the original size. In this one-to-one comparison, one of the individuals of each pair might be removed in advance from the combined population before (µ+λ) survival if dominated by the other.\n",
    "\n",
    "<p align=\"center\">\n",
    "  <img src=\"https://github.com/mooscaliaproject/pymoode/raw/main/images/tnk_gde3.png\"\n",
    "    alt=\"tnk_gde3\" width=\"420\" height=\"350\"/>\n",
    "</p>"
   ]
  },
  {
   "attachments": {},
   "cell_type": "markdown",
   "metadata": {},
   "source": [
    "## Many-objective algorithms\n",
    "\n",
    "As GDE3 and NSDE have been originally designed using NSGA-II <cite data-cite=\"nsga2\"></cite> Rank and Crowding survival, they perform poorly in problems with more than two objectives. However, simple modifications from a user perspective can solve this issue. Let us in pymoode denote problems with more than two objectives as many-objective problems.\n",
    "\n",
    "NSDE-R <cite data-cite=\"nsder\"></cite> combines the survival operator of NSGA-III <cite data-cite=\"nsga3-part1\"></cite> <cite data-cite=\"nsga3-part2\"></cite> with the reproduction operators of DE <cite data-cite=\"de_article\"></cite>, which leads to great performance in many-objective problems. GDE3-MNN is a variant of GDE3 proposed by Kukkonen and Deb <cite data-cite=\"gde3many\"></cite> that replaces original crowding distances of Rank and Crowding survival with an M-Nearest Neighbors based crowding metric with recursive elimination and re-calculation. It has improved a lot the performance of GDE3 in many-objective problems.\n",
    "\n",
    "<p align=\"center\">\n",
    "  <img src=\"https://github.com/mooscaliaproject/pymoode/raw/main/images/gde3mnn_example.gif\"\n",
    "    alt=\"tnk_gde3\" width=\"420\" height=\"350\"/>\n",
    "</p>"
   ]
  }
 ],
 "metadata": {
  "kernelspec": {
   "display_name": "venv",
   "language": "python",
   "name": "python3"
  },
  "language_info": {
   "codemirror_mode": {
    "name": "ipython",
    "version": 3
   },
   "file_extension": ".py",
   "mimetype": "text/x-python",
   "name": "python",
   "nbconvert_exporter": "python",
   "pygments_lexer": "ipython3",
   "version": "3.9.7 (tags/v3.9.7:1016ef3, Aug 30 2021, 20:19:38) [MSC v.1929 64 bit (AMD64)]"
  },
  "orig_nbformat": 4,
  "vscode": {
   "interpreter": {
    "hash": "b918b2b0974b3df50d2cb6c751b8eaae1bb466aaf5007e6a0fab3d6d8f3e624b"
   }
  }
 },
 "nbformat": 4,
 "nbformat_minor": 2
}
