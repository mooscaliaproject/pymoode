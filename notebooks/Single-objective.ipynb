{
 "cells": [
  {
   "attachments": {},
   "cell_type": "markdown",
   "metadata": {},
   "source": [
    "# Single-objective"
   ]
  },
  {
   "attachments": {},
   "cell_type": "markdown",
   "metadata": {},
   "source": [
    "Throughout this section, we will solve the classic Rastrigin problem imported from [pymoo](https://github.com/anyoptimization/pymoo/blob/main/pymoo/problems/single/rastrigin.py). Three strategies of how to instantiate it from scratch are also presented in the [complete tutorial](./Complete-tutorial.ipynb).\n",
    "\n",
    "Besides the original DE <cite data-cite=\"de_article\"></cite>, in this example the PSO <cite data-cite=\"pso\"></cite> implementation from pymoo will also be used."
   ]
  },
  {
   "attachments": {},
   "cell_type": "markdown",
   "metadata": {},
   "source": [
    "**Rastrigin**\n",
    "\n",
    "$$\n",
    "\\begin{align}\n",
    "    \\text{min} \\; \\; & f(\\boldsymbol{x}) = An + \\sum_{i=1}^{n}[x_i^2 - A \\, \\mathrm{cos}(2 \\pi x_i)]\\\\\n",
    "    \\text{s.t.} \\; \\; & -5.12 \\leq x_i \\leq 5.12 & \\forall i \\in \\{ 1, 2 \\}\n",
    "\\end{align}\n",
    "$$"
   ]
  },
  {
   "cell_type": "code",
   "execution_count": 1,
   "metadata": {},
   "outputs": [],
   "source": [
    "from pymoo.algorithms.soo.nonconvex.pso import PSO\n",
    "from pymoo.optimize import minimize\n",
    "from pymoo.problems import get_problem\n",
    "from pymoode.algorithms import DE"
   ]
  },
  {
   "cell_type": "code",
   "execution_count": 2,
   "metadata": {},
   "outputs": [],
   "source": [
    "problem = get_problem(\"rastrigin\")"
   ]
  },
  {
   "cell_type": "code",
   "execution_count": 3,
   "metadata": {},
   "outputs": [],
   "source": [
    "NGEN = 100\n",
    "POPSIZE = 20\n",
    "SEED = 3"
   ]
  },
  {
   "cell_type": "code",
   "execution_count": 4,
   "metadata": {},
   "outputs": [],
   "source": [
    "# DE Parameters\n",
    "CR = 0.5\n",
    "F = (0.3, 1.0)"
   ]
  },
  {
   "cell_type": "code",
   "execution_count": 5,
   "metadata": {},
   "outputs": [
    {
     "name": "stdout",
     "output_type": "stream",
     "text": [
      "[1.42108547e-14]\n",
      "[-9.85467210e-11  8.38205833e-09]\n"
     ]
    }
   ],
   "source": [
    "de = DE(pop_size=POPSIZE, variant=\"DE/rand/1/bin\", CR=CR, F=F)\n",
    "\n",
    "res_de = minimize(\n",
    "    problem,\n",
    "    de,\n",
    "    ('n_gen', NGEN),\n",
    "    seed=SEED,\n",
    "    save_history=False,\n",
    "    verbose=False,\n",
    ")\n",
    "\n",
    "print(res_de.F)\n",
    "print(res_de.X)"
   ]
  },
  {
   "cell_type": "code",
   "execution_count": 6,
   "metadata": {},
   "outputs": [
    {
     "name": "stdout",
     "output_type": "stream",
     "text": [
      "[2.00159889e-11]\n",
      "[-1.28686492e-07  2.90416106e-07]\n"
     ]
    }
   ],
   "source": [
    "pso = PSO(pop_size=POPSIZE)\n",
    "\n",
    "res_pso = minimize(\n",
    "    problem,\n",
    "    pso,\n",
    "    ('n_gen', NGEN),\n",
    "    seed=SEED,\n",
    "    save_history=False,\n",
    "    verbose=False,\n",
    ")\n",
    "\n",
    "print(res_pso.F)\n",
    "print(res_pso.X)"
   ]
  },
  {
   "cell_type": "code",
   "execution_count": null,
   "metadata": {},
   "outputs": [],
   "source": []
  }
 ],
 "metadata": {
  "kernelspec": {
   "display_name": "venv",
   "language": "python",
   "name": "python3"
  },
  "language_info": {
   "codemirror_mode": {
    "name": "ipython",
    "version": 3
   },
   "file_extension": ".py",
   "mimetype": "text/x-python",
   "name": "python",
   "nbconvert_exporter": "python",
   "pygments_lexer": "ipython3",
   "version": "3.9.7"
  },
  "orig_nbformat": 4,
  "vscode": {
   "interpreter": {
    "hash": "6f648821e8b7b21234539644f05b8ed9c4fec624e513ce0931c304e76320dc94"
   }
  }
 },
 "nbformat": 4,
 "nbformat_minor": 2
}
