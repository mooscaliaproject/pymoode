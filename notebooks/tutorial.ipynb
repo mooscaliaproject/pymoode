{
 "cells": [
  {
   "attachments": {},
   "cell_type": "markdown",
   "metadata": {},
   "source": [
    "Suggestion for virtual enviroment:\n",
    "\n",
    "```text\n",
    "ipykernel\n",
    "matplotlib==3.8.*\n",
    "numpy==1.26.*\n",
    "scipy==1.13.*\n",
    "pymoo==0.6.1\n",
    "pymoode==0.3.0\n",
    "pyrecorder==0.2.*\n",
    "```"
   ]
  },
  {
   "attachments": {},
   "cell_type": "markdown",
   "metadata": {},
   "source": [
    "# pymoode tutorial"
   ]
  },
  {
   "cell_type": "code",
   "execution_count": 1,
   "metadata": {},
   "outputs": [],
   "source": [
    "# Useful packages\n",
    "import numpy as np\n",
    "import matplotlib.pyplot as plt"
   ]
  },
  {
   "cell_type": "code",
   "execution_count": 2,
   "metadata": {},
   "outputs": [],
   "source": [
    "# Problem classes\n",
    "from pymoo.core.problem import Problem, ElementwiseProblem\n",
    "from pymoo.problems.functional import FunctionalProblem\n",
    "from pymoo.optimize import minimize"
   ]
  },
  {
   "cell_type": "code",
   "execution_count": 3,
   "metadata": {},
   "outputs": [],
   "source": [
    "# Algorithmss\n",
    "from pymoode.algorithms import DE\n",
    "from pymoode.algorithms import GDE3\n",
    "from pymoode.algorithms import NSDE\n",
    "from pymoode.algorithms import NSDER\n",
    "from pymoo.algorithms.moo.nsga2 import NSGA2\n",
    "from pymoo.algorithms.moo.nsga3 import NSGA3\n",
    "\n",
    "# Reference directions and test problems\n",
    "from pymoo.problems import get_problem\n",
    "from pymoo.util.ref_dirs import get_reference_directions\n",
    "\n",
    "#Survival operators\n",
    "from pymoode.survival import RankAndCrowding, ConstrRankAndCrowding\n",
    "\n",
    "# Termination\n",
    "from pymoo.termination.default import DefaultSingleObjectiveTermination, DefaultMultiObjectiveTermination\n",
    "\n",
    "# Performance\n",
    "from pymoo.indicators.hv import HV\n",
    "from pymoode.performance import SpacingIndicator"
   ]
  },
  {
   "cell_type": "code",
   "execution_count": 4,
   "metadata": {},
   "outputs": [],
   "source": [
    "# Recorder\n",
    "from pyrecorder.recorder import Recorder\n",
    "from pyrecorder.writers.video import Video\n",
    "from pyrecorder.writers.gif import GIF\n",
    "from pyrecorder.converters.matplotlib import Matplotlib"
   ]
  },
  {
   "attachments": {},
   "cell_type": "markdown",
   "metadata": {},
   "source": [
    "## Defining a problem\n",
    "\n",
    "There are three ways of defining a problem in pymoo:\n",
    "\n",
    "1) [Functional](#functional)\n",
    "2) [Elementwise](#elementwise)\n",
    "3) [Population-wise](#population-wise)"
   ]
  },
  {
   "attachments": {},
   "cell_type": "markdown",
   "metadata": {},
   "source": [
    "**Rastrigin**\n",
    "\n",
    "In this example, let us start by implementing the Rastrigin test function, described by the equations below.\n",
    "\n",
    "$$\n",
    "\\begin{align}\n",
    "    \\text{min} \\; \\; & f(\\boldsymbol{x}) = An + \\sum_{i=1}^{n}[x_i^2 - A \\, \\mathrm{cos}(2 \\pi x_i)]\\\\\n",
    "    \\text{s.t.} \\; \\; & -5.12 \\leq x_i \\leq 5.12 & \\forall i \\in \\{ 1, 2 \\}\n",
    "\\end{align}\n",
    "$$"
   ]
  },
  {
   "attachments": {},
   "cell_type": "markdown",
   "metadata": {},
   "source": [
    "### Functional\n",
    "\n",
    "In the functional implementation, each individual is evaluated separately and the user must parse objective functions and constraints as either list (in case more than one output is expected) or callables (in case just one objective or constraint is expected)."
   ]
  },
  {
   "cell_type": "code",
   "execution_count": 5,
   "metadata": {},
   "outputs": [],
   "source": [
    "# Defining the objective function\n",
    "def rastrigin(x):\n",
    "    return np.sum(x * x - 10 * np.cos(2 * np.pi * x)) + 10 * np.size(x)\n",
    "\n",
    "\n",
    "# Functional\n",
    "functional_rastrigin = FunctionalProblem(\n",
    "    n_var=2, objs=rastrigin,\n",
    "    xl=np.full(2, -5.12), xu=np.full(2, 5.12),\n",
    "    constr_ieq=[]\n",
    ")"
   ]
  },
  {
   "attachments": {},
   "cell_type": "markdown",
   "metadata": {},
   "source": [
    "### Elementwise\n",
    "\n",
    "The Elementwise definition also evaluates individuals separately, but has some advantages of returning all objectives and constraints in the same method. Therefore it is possible to avoid unnecessary calculations performed in more than one objective or constraint."
   ]
  },
  {
   "cell_type": "code",
   "execution_count": 6,
   "metadata": {},
   "outputs": [],
   "source": [
    "class ElementwiseRasrigin(ElementwiseProblem):\n",
    "\n",
    "    def __init__(self):\n",
    "\n",
    "        xl = np.full(2, -5.12)\n",
    "        xu = np.full(2, 5.12)\n",
    "\n",
    "        super().__init__(n_var=2, n_obj=1, n_ieq_constr=0, xl=xl, xu=xu)\n",
    "\n",
    "    def _evaluate(self, x, out, *args, **kwargs):\n",
    "        out[\"F\"] = rastrigin(x)"
   ]
  },
  {
   "attachments": {},
   "cell_type": "markdown",
   "metadata": {},
   "source": [
    "### Population-wise\n",
    "\n",
    "The Population-wise approach can be helpful if a vectorized numerical evaluation is possible, making solutions faster."
   ]
  },
  {
   "cell_type": "code",
   "execution_count": 7,
   "metadata": {},
   "outputs": [],
   "source": [
    "class Rastrigin(Problem):\n",
    "\n",
    "    def __init__(self):\n",
    "\n",
    "        xl = np.full(2, -5.12)\n",
    "        xu = np.full(2, 5.12)\n",
    "\n",
    "        super().__init__(n_var=2, n_obj=1, n_ieq_constr=0, xl=xl, xu=xu)\n",
    "\n",
    "    def _evaluate(self, x, out, *args, **kwargs):\n",
    "\n",
    "        out[\"F\"] = np.sum(x * x - 10 * np.cos(2 * np.pi * x), axis=1) \\\n",
    "            + 10 * x.shape[1]"
   ]
  },
  {
   "cell_type": "markdown",
   "metadata": {},
   "source": [
    "# Single-objective DE"
   ]
  },
  {
   "cell_type": "code",
   "execution_count": 8,
   "metadata": {},
   "outputs": [],
   "source": [
    "de = DE(pop_size=30, variant=\"DE/rand/1/bin\", F=(0.3, 1.0), CR=0.5)"
   ]
  },
  {
   "cell_type": "code",
   "execution_count": 9,
   "metadata": {},
   "outputs": [],
   "source": [
    "NGEN = 100\n",
    "SEED = 12"
   ]
  },
  {
   "cell_type": "code",
   "execution_count": 10,
   "metadata": {},
   "outputs": [],
   "source": [
    "termination_single = DefaultSingleObjectiveTermination(\n",
    "    xtol=1e-8,\n",
    "    cvtol=0.0,\n",
    "    ftol=1e-8,\n",
    "    period=25,\n",
    "    n_max_gen=NGEN,\n",
    ")"
   ]
  },
  {
   "cell_type": "code",
   "execution_count": 11,
   "metadata": {},
   "outputs": [
    {
     "name": "stdout",
     "output_type": "stream",
     "text": [
      "f: 0.0000\n",
      "x_opt: [ 1.90172541e-04 -2.75540458e-05]\n"
     ]
    }
   ],
   "source": [
    "prast = Rastrigin()\n",
    "\n",
    "res_rastrigin = minimize(\n",
    "    prast,\n",
    "    de,\n",
    "    termination=termination_single,\n",
    "    seed=SEED,\n",
    "    save_history=True,\n",
    "    verbose=False\n",
    ")\n",
    "\n",
    "print(f\"f: {(res_rastrigin.F[0]):.4f}\")\n",
    "print(f\"x_opt: {(res_rastrigin.X)}\")"
   ]
  },
  {
   "cell_type": "code",
   "execution_count": 12,
   "metadata": {},
   "outputs": [],
   "source": [
    "# Creating a countouf plot\n",
    "x1 = np.linspace(-5.12, 5.12, 100)\n",
    "x2 = np.linspace(-5.12, 5.12, 100)\n",
    "X1, X2 = np.meshgrid(x1, x2)\n",
    "X = np.vstack((X1.flatten().reshape([1, -1]), X2.flatten().reshape([1, -1])))\n",
    "F = np.array([rastrigin(x) for x in X.T])\n",
    "F = F.reshape([100, 100])"
   ]
  },
  {
   "cell_type": "code",
   "execution_count": 13,
   "metadata": {},
   "outputs": [],
   "source": [
    "def make_ordinal(n):\n",
    "    n = int(n)\n",
    "    suffix = ['th', 'st', 'nd', 'rd', 'th'][min(n % 10, 4)]\n",
    "    if 11 <= (n % 100) <= 13:\n",
    "        suffix = 'th'\n",
    "    return str(n) + suffix"
   ]
  },
  {
   "cell_type": "code",
   "execution_count": 15,
   "metadata": {},
   "outputs": [],
   "source": [
    "writer = GIF(\"../images/soo_video.gif\", duration=0.5)\n",
    "\n",
    "with Recorder(writer, converter=Matplotlib(dpi=100)) as rec:\n",
    "\n",
    "    for g in range(min(50, len(res_rastrigin.history))):\n",
    "\n",
    "        fig, ax = plt.subplots(figsize=[6, 5], dpi=150)\n",
    "\n",
    "        fig.patch.set_facecolor('white')\n",
    "\n",
    "        surf = ax.contourf(X1, X2, F, levels=40)\n",
    "        fig.colorbar(surf, shrink=1.0, aspect=20)\n",
    "\n",
    "        ax.scatter(\n",
    "            res_rastrigin.history[g].pop.get(\"X\")[:, 0],\n",
    "            res_rastrigin.history[g].pop.get(\"X\")[:, 1],\n",
    "            marker=\"x\", color=\"red\", label=\"Population\",\n",
    "        )\n",
    "        ax.legend(framealpha=1.0)\n",
    "\n",
    "        ax.set_xlabel(\"$x_1$\")\n",
    "        ax.set_ylabel(\"$x_2$\")\n",
    "\n",
    "        _text = make_ordinal(g + 1)\n",
    "\n",
    "        plt.text(\n",
    "            0.1, 0.1, f\"{_text} gen\", transform=plt.gca().transAxes,\n",
    "            bbox=dict(facecolor='white', edgecolor='black'),\n",
    "        )\n",
    "\n",
    "        plt.tight_layout()\n",
    "\n",
    "        rec.record()"
   ]
  },
  {
   "attachments": {},
   "cell_type": "markdown",
   "metadata": {},
   "source": [
    "## Multi-objective problem\n",
    "\n",
    "In this section, it will be introduced a problem with two objectives and two inequality constraints. You will notice that, in the object oriented approach, the objective functions are stored in the key ``\"F\"`` of the output dictionary and the inequalities are stored in the key ``\"G\"``.\n",
    "\n",
    "In case there are equality constraints, one could store them in the key ``\"H\"`` of the output dictionary. However, I strongly advise to try and remove degrees of freedom of the problem by using equalities to reduce the number of variables instead of explicitly using equality constraints in DE."
   ]
  },
  {
   "attachments": {},
   "cell_type": "markdown",
   "metadata": {},
   "source": [
    "**Example functions**\n",
    "\n",
    "$$\n",
    "\\begin{align}\n",
    "    \\text{min} \\; \\; & f_1(\\boldsymbol{x}) = (x_1 - 0.5) ^ 2 + 0.7 x_1 x_2 + 1.2 (x_2 + 0.7) ^ 2\\\\\n",
    "    & f_2(\\boldsymbol{x}) = (x_1 + 1.5) ^ 2 + 0.8 x_1 x_2 + 1.3 (x_2 - 1.7) ^ 2\\\\\n",
    "    \\text{s.t.} \\; \\; & g_1(\\boldsymbol{x}) \\equiv x_1 ^ 2 + (x_2 - 1) ^ 2 - 9 \\leq 0\\\\\n",
    "    & g_2(\\boldsymbol{x}) \\equiv - (x_1 + 0.5) ^ 2 - (x_2 - 1) ^ 2 + 2 \\leq 0\\\\\n",
    "    & -5.0 \\leq \\boldsymbol{x} \\leq 5.0\n",
    "\\end{align}\n",
    "$$"
   ]
  },
  {
   "cell_type": "code",
   "execution_count": 16,
   "metadata": {},
   "outputs": [],
   "source": [
    "class TwoObjExample(Problem):\n",
    "\n",
    "    def __init__(self):\n",
    "\n",
    "        xl = np.full(2, -5.0)\n",
    "        xu = np.full(2, 5.0)\n",
    "\n",
    "        super().__init__(n_var=2, n_obj=2, n_ieq_constr=2, xl=xl, xu=xu)\n",
    "\n",
    "    def _evaluate(self, x, out, *args, **kwargs):\n",
    "\n",
    "        F1 = (x[:, 0] - 0.5) ** 2 + 0.7 * x[:, 0] * \\\n",
    "            x[:, 1] + 1.2 * (x[:, 1] + 0.7) ** 2\n",
    "\n",
    "        F2 = 1.1 * (x[:, 0] + 1.5) ** 2 + 0.8 * x[:, 0] * \\\n",
    "            x[:, 1] + 1.3 * (x[:, 1] - 1.7) ** 2\n",
    "\n",
    "        out[\"F\"] = np.column_stack([F1, F2])\n",
    "\n",
    "        G1 = x[:, 0] ** 2 + (x[:, 1] - 1) ** 2 - 9\n",
    "        G2 = - (x[:, 0] + 0.5) ** 2 - (x[:, 1] - 1) ** 2 + 2\n",
    "\n",
    "        out[\"G\"] = np.column_stack([G1, G2])"
   ]
  },
  {
   "cell_type": "code",
   "execution_count": 17,
   "metadata": {},
   "outputs": [],
   "source": [
    "# Using a not so large value for CR due to the low dimensionality of the problem\n",
    "gde3 = GDE3(pop_size=50, variant=\"DE/rand/1/bin\", F=(0.0, 1.0), CR=0.7)\n",
    "nsde = NSDE(pop_size=50, variant=\"DE/rand/1/bin\", F=(0.0, 1.0), CR=0.7)\n",
    "nsga2 = NSGA2(pop_size=50)"
   ]
  },
  {
   "cell_type": "code",
   "execution_count": 18,
   "metadata": {},
   "outputs": [],
   "source": [
    "NGEN = 200\n",
    "\n",
    "termination_multi = DefaultMultiObjectiveTermination(\n",
    "    xtol=1e-8,\n",
    "    cvtol=1e-8,\n",
    "    ftol=1e-8,\n",
    "    period=50,\n",
    "    n_max_gen=NGEN,\n",
    ")"
   ]
  },
  {
   "cell_type": "code",
   "execution_count": 19,
   "metadata": {},
   "outputs": [],
   "source": [
    "res_gde3_problem_2 = minimize(\n",
    "    TwoObjExample(),\n",
    "    gde3,\n",
    "    termination_multi,\n",
    "    seed=SEED,\n",
    "    save_history=True,\n",
    "    verbose=False\n",
    ")"
   ]
  },
  {
   "cell_type": "code",
   "execution_count": 20,
   "metadata": {},
   "outputs": [
    {
     "data": {
      "image/png": "[encoded data removed]",
      "text/plain": [
       "<Figure size 600x500 with 1 Axes>"
      ]
     },
     "metadata": {},
     "output_type": "display_data"
    }
   ],
   "source": [
    "fig, ax = plt.subplots(figsize=[6, 5], dpi=100)\n",
    "ax.scatter(res_gde3_problem_2.F[:, 0], res_gde3_problem_2.F[:, 1], color=\"firebrick\", label=\"GDE3\")\n",
    "ax.set_ylabel(\"$f_2$\")\n",
    "ax.set_xlabel(\"$f_1$\")\n",
    "ax.legend()\n",
    "fig.tight_layout()\n",
    "plt.show()"
   ]
  },
  {
   "cell_type": "code",
   "execution_count": 21,
   "metadata": {},
   "outputs": [],
   "source": [
    "res_nsde_problem_2 = minimize(\n",
    "    TwoObjExample(),\n",
    "    nsde,\n",
    "    termination_multi,\n",
    "    seed=SEED,\n",
    "    save_history=True,\n",
    "    verbose=False\n",
    ")"
   ]
  },
  {
   "cell_type": "code",
   "execution_count": 22,
   "metadata": {},
   "outputs": [
    {
     "data": {
      "image/png": "[encoded data removed]",
      "text/plain": [
       "<Figure size 600x500 with 1 Axes>"
      ]
     },
     "metadata": {},
     "output_type": "display_data"
    }
   ],
   "source": [
    "fig, ax = plt.subplots(figsize=[6, 5], dpi=100)\n",
    "ax.scatter(res_nsde_problem_2.F[:, 0], res_nsde_problem_2.F[:, 1], color=\"firebrick\", label=\"NSDE\")\n",
    "ax.set_ylabel(\"$f_2$\")\n",
    "ax.set_xlabel(\"$f_1$\")\n",
    "ax.legend()\n",
    "fig.tight_layout()\n",
    "plt.show()"
   ]
  },
  {
   "cell_type": "code",
   "execution_count": 23,
   "metadata": {},
   "outputs": [],
   "source": [
    "res_nsga2_problem_2 = minimize(\n",
    "    TwoObjExample(),\n",
    "    nsga2,\n",
    "    termination_multi,\n",
    "    seed=SEED,\n",
    "    save_history=True,\n",
    "    verbose=False\n",
    ")"
   ]
  },
  {
   "cell_type": "code",
   "execution_count": 24,
   "metadata": {},
   "outputs": [
    {
     "data": {
      "image/png": "[encoded data removed]",
      "text/plain": [
       "<Figure size 600x500 with 1 Axes>"
      ]
     },
     "metadata": {},
     "output_type": "display_data"
    }
   ],
   "source": [
    "fig, ax = plt.subplots(figsize=[6, 5], dpi=100)\n",
    "ax.scatter(res_nsga2_problem_2.F[:, 0], res_nsga2_problem_2.F[:, 1], color=\"firebrick\", label=\"NSGA2\")\n",
    "ax.set_ylabel(\"$f_2$\")\n",
    "ax.set_xlabel(\"$f_1$\")\n",
    "ax.legend()\n",
    "fig.tight_layout()\n",
    "plt.show()"
   ]
  },
  {
   "cell_type": "code",
   "execution_count": 25,
   "metadata": {},
   "outputs": [],
   "source": [
    "objs_p2 = np.row_stack([res_nsde_problem_2.F, res_gde3_problem_2.F, res_nsga2_problem_2.F])\n",
    "nadir_p2 = objs_p2.max(axis=0)\n",
    "reference_p2 = nadir_p2 + 1e-6\n",
    "ideal_p2 =  objs_p2.min(axis=0)"
   ]
  },
  {
   "cell_type": "code",
   "execution_count": 26,
   "metadata": {},
   "outputs": [
    {
     "name": "stdout",
     "output_type": "stream",
     "text": [
      "hv GDE3 0.7534718209265902\n",
      "hv NSDE 0.7522736340092664\n",
      "hv NSGA-II 0.7503122724585839\n"
     ]
    }
   ],
   "source": [
    "# Evaluate by Hypervolume\n",
    "hv_p2 = HV(zero_to_one=True, ref_point=reference_p2, nadir=nadir_p2, ideal=ideal_p2)\n",
    "\n",
    "print(\"hv GDE3\", hv_p2.do(res_gde3_problem_2.F))\n",
    "print(\"hv NSDE\", hv_p2.do(res_nsde_problem_2.F))\n",
    "print(\"hv NSGA-II\", hv_p2.do(res_nsga2_problem_2.F))"
   ]
  },
  {
   "cell_type": "markdown",
   "metadata": {},
   "source": [
    "## Record evolution on multi-objective problems"
   ]
  },
  {
   "cell_type": "code",
   "execution_count": 27,
   "metadata": {},
   "outputs": [],
   "source": [
    "writer = GIF(\"../images/moo_gde3_f_video.gif\", duration=0.3)\n",
    "\n",
    "with Recorder(writer, converter=Matplotlib(dpi=100)) as rec:\n",
    "\n",
    "    for g in range(min(70, len(res_gde3_problem_2.history))):\n",
    "\n",
    "        fig, ax = plt.subplots(figsize=[6, 5], dpi=150)\n",
    "\n",
    "        fig.patch.set_facecolor('white')\n",
    "\n",
    "        ranks = res_gde3_problem_2.history[g].pop.get(\"rank\")\n",
    "        front = ranks == 0\n",
    "\n",
    "        cv = res_gde3_problem_2.history[g].pop.get(\"CV\").flatten()\n",
    "        infeasible = cv > 0.0\n",
    "\n",
    "        ax.scatter(res_gde3_problem_2.history[g].pop.get(\"F\")[front, 0],\n",
    "                   res_gde3_problem_2.history[g].pop.get(\"F\")[front, 1],\n",
    "                   marker=\"o\", color=\"black\", label=\"Pareto front\")\n",
    "\n",
    "        ax.scatter(res_gde3_problem_2.history[g].pop.get(\"F\")[~(front | infeasible), 0],\n",
    "                   res_gde3_problem_2.history[g].pop.get(\"F\")[~(front | infeasible), 1],\n",
    "                   marker=\"x\", color=\"grey\", label=\"Dominated\")\n",
    "\n",
    "        ax.scatter(res_gde3_problem_2.history[g].pop.get(\"F\")[infeasible, 0],\n",
    "                   res_gde3_problem_2.history[g].pop.get(\"F\")[infeasible, 1],\n",
    "                   marker=\"x\", color=\"firebrick\", label=\"Infeasible\")\n",
    "\n",
    "        ax.legend(framealpha=1.0, loc=\"upper right\")\n",
    "\n",
    "        ax.set_xlabel(\"$f_1$\")\n",
    "        ax.set_ylabel(\"$f_2$\")\n",
    "\n",
    "        _text = make_ordinal(g + 1)\n",
    "\n",
    "        plt.text(0.1, 0.1, f\"{_text} gen\", transform=plt.gca().transAxes,\n",
    "                 bbox=dict(facecolor='white', edgecolor='black'))\n",
    "\n",
    "        ax.set_ylim([-4.0, 17])\n",
    "        ax.set_xlim([-1.0, 17])\n",
    "\n",
    "        plt.tight_layout()\n",
    "\n",
    "        rec.record()"
   ]
  },
  {
   "cell_type": "code",
   "execution_count": null,
   "metadata": {},
   "outputs": [],
   "source": [
    "writer = GIF(\"../images/moo_gde3_x_video.gif\", duration=0.3)\n",
    "\n",
    "with Recorder(writer, converter=Matplotlib(dpi=100)) as rec:\n",
    "\n",
    "    for g in range(min(70, len(res_gde3_problem_2.history))):\n",
    "\n",
    "        fig, ax = plt.subplots(figsize=[6, 5], dpi=150)\n",
    "\n",
    "        fig.patch.set_facecolor('white')\n",
    "\n",
    "        ranks = res_gde3_problem_2.history[g].pop.get(\"rank\")\n",
    "        front = ranks == 0\n",
    "\n",
    "        cv = res_gde3_problem_2.history[g].pop.get(\"CV\").flatten()\n",
    "        infeasible = cv > 0.0\n",
    "\n",
    "        ax.scatter(res_gde3_problem_2.history[g].pop.get(\"X\")[front, 0],\n",
    "                   res_gde3_problem_2.history[g].pop.get(\"X\")[front, 1],\n",
    "                   marker=\"o\", color=\"black\", label=\"Pareto front\")\n",
    "\n",
    "        ax.scatter(res_gde3_problem_2.history[g].pop.get(\"X\")[~(front | infeasible), 0],\n",
    "                   res_gde3_problem_2.history[g].pop.get(\"X\")[~(front | infeasible), 1],\n",
    "                   marker=\"x\", color=\"grey\", label=\"Dominated\")\n",
    "\n",
    "        ax.scatter(res_gde3_problem_2.history[g].pop.get(\"X\")[infeasible, 0],\n",
    "                   res_gde3_problem_2.history[g].pop.get(\"X\")[infeasible, 1],\n",
    "                   marker=\"x\", color=\"firebrick\", label=\"Infeasible\")\n",
    "\n",
    "        ax.legend(framealpha=1.0, loc=\"upper right\")\n",
    "\n",
    "        ax.set_xlabel(\"$x_1$\")\n",
    "        ax.set_ylabel(\"$x_2$\")\n",
    "\n",
    "        _text = make_ordinal(g + 1)\n",
    "\n",
    "        plt.text(0.1, 0.1, f\"{_text} gen\", transform=plt.gca().transAxes,\n",
    "                 bbox=dict(facecolor='white', edgecolor='black'))\n",
    "\n",
    "        ax.set_ylim([-5, 5])\n",
    "        ax.set_xlim([-5, 5])\n",
    "\n",
    "        plt.tight_layout()\n",
    "\n",
    "        rec.record()"
   ]
  },
  {
   "attachments": {},
   "cell_type": "markdown",
   "metadata": {},
   "source": [
    "## Pruning nondominated solutions\n",
    "\n",
    "Although the results using the original GDE3 already seemed great, they could have been improved by adopting the pruning strategy proposed by Kukkonen & Deb (2006a), which recursively re-calculates crowding distances as removes individuals from the population in the survival stage."
   ]
  },
  {
   "cell_type": "code",
   "execution_count": null,
   "metadata": {},
   "outputs": [],
   "source": [
    "pruning_survival = RankAndCrowding(crowding_func=\"pcd\")"
   ]
  },
  {
   "cell_type": "code",
   "execution_count": null,
   "metadata": {},
   "outputs": [],
   "source": [
    "gde3_ps = GDE3(pop_size=50, variant=\"DE/rand/1/bin\", F=(0.0, 1.0), CR=0.7, survival=pruning_survival)"
   ]
  },
  {
   "cell_type": "code",
   "execution_count": null,
   "metadata": {},
   "outputs": [],
   "source": [
    "res_gde3_ps_problem_2 = minimize(\n",
    "    TwoObjExample(),\n",
    "    gde3_ps,\n",
    "    ('n_gen', NGEN),\n",
    "    seed=SEED,\n",
    "    save_history=True,\n",
    "    verbose=False\n",
    ")"
   ]
  },
  {
   "cell_type": "code",
   "execution_count": null,
   "metadata": {},
   "outputs": [],
   "source": [
    "fig, ax = plt.subplots(1, 2, figsize=[12, 5], dpi=100)\n",
    "\n",
    "ax[0].scatter(res_gde3_ps_problem_2.F[:, 0], res_gde3_ps_problem_2.F[:, 1], color=\"indigo\", label=\"GDE3-Pruning\", marker=\"o\")\n",
    "ax[0].set_ylabel(\"$f_2$\")\n",
    "ax[0].set_xlabel(\"$f_1$\")\n",
    "ax[0].legend()\n",
    "\n",
    "ax[1].scatter(res_gde3_problem_2.F[:, 0], res_gde3_problem_2.F[:, 1], color=\"firebrick\", label=\"GDE3-Original\", marker=\"o\")\n",
    "ax[1].set_ylabel(\"$f_2$\")\n",
    "ax[1].set_xlabel(\"$f_1$\")\n",
    "ax[1].legend()\n",
    "\n",
    "fig.tight_layout()\n",
    "plt.show()"
   ]
  },
  {
   "cell_type": "code",
   "execution_count": null,
   "metadata": {},
   "outputs": [],
   "source": [
    "print(\"hv GDE3\", hv_p2.do(res_gde3_problem_2.F))\n",
    "print(\"hv GDE3-PS\", hv_p2.do(res_gde3_ps_problem_2.F))"
   ]
  },
  {
   "attachments": {},
   "cell_type": "markdown",
   "metadata": {},
   "source": [
    "## Spacing indicator\n",
    "\n",
    "By the figure above we could notice that the distribution of elements in the Pareto front has been improved by the pruning strategy. However, now we will use a quantitative metric to measure this improvement - the **Spacing** indicator.\n",
    "\n",
    "It is calculated as it follows:\n",
    "\n",
    "$$\n",
    "\\begin{align}\n",
    "    S = \\sqrt{ \\frac{1}{|Q|} \\sum_{i=1}^{Q} (d_{i} -  \\bar{d})^2 }\n",
    "\\end{align}\n",
    "$$\n",
    "\n",
    "In which, $S$ is the spacing indicator, $d_i$ is the distance of one element of index $i$ to its nearest neighbor, $\\bar{d}$ is the mean of $d_i$, and $Q$ is the set of solutions.\n",
    "\n",
    "By default the 'cityblock' distance metric is used, but any metric compatible with scipy.spatial.distance.pdist can be parsed when instantiating indicator via the keyword argument ``metric``.\n",
    "\n",
    "It might be interesting to normalize objectives, especially if they are in different scales. To do that, one should parse argument ``zero_to_one=True`` and provide either the pareto front ``pf`` or nadir and ideal points."
   ]
  },
  {
   "cell_type": "code",
   "execution_count": null,
   "metadata": {},
   "outputs": [],
   "source": [
    "ideal = np.vstack((res_gde3_problem_2.F, res_gde3_ps_problem_2.F)).min(axis=0) - 1e-3\n",
    "nadir = np.vstack((res_gde3_problem_2.F, res_gde3_ps_problem_2.F)).max(axis=0) + 1e-3\n",
    "\n",
    "sp_p2 = SpacingIndicator(\n",
    "    zero_to_one=True,\n",
    "    ideal=ideal,\n",
    "    nadir=nadir\n",
    ")"
   ]
  },
  {
   "cell_type": "code",
   "execution_count": null,
   "metadata": {},
   "outputs": [],
   "source": [
    "print(\"SP GDE3\", sp_p2.do(res_gde3_problem_2.F))\n",
    "print(\"SP GDE3-PS\", sp_p2.do(res_gde3_ps_problem_2.F))"
   ]
  },
  {
   "attachments": {},
   "cell_type": "markdown",
   "metadata": {},
   "source": [
    "## Many-objective problem\n",
    "\n",
    "It is known that the original Rank and Crowding survival of NSGA-II performs poorly in problems with more than two objectives. However, we can modify the algorithms to perform well in these problems by changing the survival operators."
   ]
  },
  {
   "cell_type": "code",
   "execution_count": null,
   "metadata": {},
   "outputs": [],
   "source": [
    "# Define the reference directions\n",
    "ref_dirs = get_reference_directions(\"das-dennis\", 3, n_partitions=15)\n",
    "\n",
    "# Suggestion for NSGA-III\n",
    "popsize = ref_dirs.shape[0] + ref_dirs.shape[0] % 4\n",
    "\n",
    "# Algorithms\n",
    "gde3mnn = GDE3(pop_size=popsize, CR=0.2, survival=RankAndCrowding(crowding_func=\"mnn\"))\n",
    "nsder = NSDER(ref_dirs, pop_size=popsize, CR=0.5)\n",
    "nsga3 = NSGA3(ref_dirs, pop_size=popsize)"
   ]
  },
  {
   "attachments": {},
   "cell_type": "markdown",
   "metadata": {},
   "source": [
    "**DTLZ2**\n",
    "\n",
    "$$\n",
    "\\begin{align}\n",
    "    \\text{min} \\; \\; & f_1(\\boldsymbol{x}) = \\mathrm{cos}(\\pi / 2 x_1) \\, \\mathrm{cos}(\\pi / 2 x_2) (1 + g(\\boldsymbol{x}))\\\\\n",
    "    & f_2(\\boldsymbol{x}) = \\mathrm{cos}(\\pi / 2 x_1) \\, \\mathrm{sin}(\\pi / 2 x_2) (1 + g(\\boldsymbol{x}))\\\\\n",
    "    & f_3(\\boldsymbol{x}) = \\mathrm{sin}(\\pi / 2 x_1) (1 + g(\\boldsymbol{x}))\\\\\n",
    "    \\text{s.t.} \\; \\; & g(\\boldsymbol{x}) = \\sum_{i=1}^{3}(x_i - 0.5) ^ 2\\\\\n",
    "    & 0.0 \\leq \\boldsymbol{x} \\leq 1.0\n",
    "\\end{align}\n",
    "$$"
   ]
  },
  {
   "cell_type": "code",
   "execution_count": null,
   "metadata": {},
   "outputs": [],
   "source": [
    "%%time\n",
    "\n",
    "res_nsder_problem_3 = minimize(\n",
    "    get_problem(\"dtlz2\"),\n",
    "    nsder,\n",
    "    ('n_gen', 250),\n",
    "    seed=SEED,\n",
    "    save_history=True,\n",
    "    verbose=False\n",
    ")"
   ]
  },
  {
   "cell_type": "code",
   "execution_count": null,
   "metadata": {},
   "outputs": [],
   "source": [
    "%%time\n",
    "\n",
    "res_gde3_problem_3 = minimize(\n",
    "    get_problem(\"dtlz2\"),\n",
    "    gde3mnn,\n",
    "    ('n_gen', 250),\n",
    "    seed=SEED,\n",
    "    save_history=True,\n",
    "    verbose=False\n",
    ")"
   ]
  },
  {
   "cell_type": "code",
   "execution_count": null,
   "metadata": {},
   "outputs": [],
   "source": [
    "%%time\n",
    "\n",
    "res_nsga3_problem_3 = minimize(\n",
    "    get_problem(\"dtlz2\"),\n",
    "    nsga3,\n",
    "    ('n_gen', 250),\n",
    "    seed=SEED,\n",
    "    save_history=True,\n",
    "    verbose=False\n",
    ")"
   ]
  },
  {
   "cell_type": "code",
   "execution_count": null,
   "metadata": {},
   "outputs": [],
   "source": [
    "#%matplotlib qt"
   ]
  },
  {
   "cell_type": "code",
   "execution_count": null,
   "metadata": {},
   "outputs": [],
   "source": [
    "fig, ax = plt.subplots(figsize=[6, 5], dpi=150, subplot_kw={'projection':'3d'})\n",
    "\n",
    "ax.scatter(res_nsder_problem_3.F[:, 0], res_nsder_problem_3.F[:, 1], res_nsder_problem_3.F[:, 2],\n",
    "        color=\"firebrick\", label=\"NSDE-R\", marker=\"o\")\n",
    "\n",
    "ax.scatter(res_gde3_problem_3.F[:, 0], res_gde3_problem_3.F[:, 1], res_gde3_problem_3.F[:, 2],\n",
    "        color=\"navy\", label=\"GDE3-MNN\", marker=\"o\")\n",
    "\n",
    "ax.scatter(res_nsga3_problem_3.F[:, 0], res_nsga3_problem_3.F[:, 1], res_nsga3_problem_3.F[:, 2],\n",
    "        color=\"grey\", label=\"NSGA-III\", marker=\"o\")\n",
    "\n",
    "ax.view_init(elev=30, azim=30)\n",
    "\n",
    "ax.set_xlabel(\"$f_1$\")\n",
    "ax.set_ylabel(\"$f_2$\")\n",
    "ax.set_zlabel(\"$f_3$\")\n",
    "ax.legend()\n",
    "fig.tight_layout()"
   ]
  },
  {
   "cell_type": "code",
   "execution_count": null,
   "metadata": {},
   "outputs": [],
   "source": [
    "writer = GIF(\"../images/3d_many_obj_video.gif\", duration=0.1)\n",
    "\n",
    "with Recorder(writer, converter=Matplotlib(dpi=100)) as rec:\n",
    "\n",
    "    for azim in np.linspace(30, 390, 120):\n",
    "\n",
    "        fig, ax = plt.subplots(figsize=[6, 5], dpi=150, subplot_kw={'projection':'3d'})\n",
    "\n",
    "        fig.patch.set_facecolor('white')\n",
    "\n",
    "        ax.scatter(res_nsder_problem_3.F[:, 0], res_nsder_problem_3.F[:, 1], res_nsder_problem_3.F[:, 2],\n",
    "                color=\"firebrick\", label=\"NSDE-R\", marker=\"o\")\n",
    "\n",
    "        ax.scatter(res_gde3_problem_3.F[:, 0], res_gde3_problem_3.F[:, 1], res_gde3_problem_3.F[:, 2],\n",
    "                color=\"navy\", label=\"GDE3-MNN\", marker=\"o\")\n",
    "\n",
    "        ax.scatter(res_nsga3_problem_3.F[:, 0], res_nsga3_problem_3.F[:, 1], res_nsga3_problem_3.F[:, 2],\n",
    "                color=\"grey\", label=\"NSGA-III\", marker=\"o\")\n",
    "\n",
    "        ax.view_init(elev=25, azim=azim)\n",
    "\n",
    "        ax.set_xlabel(\"$f_1$\")\n",
    "        ax.set_ylabel(\"$f_2$\")\n",
    "        ax.set_zlabel(\"$f_3$\")\n",
    "        ax.legend()\n",
    "        fig.tight_layout()\n",
    "\n",
    "        rec.record()"
   ]
  },
  {
   "cell_type": "code",
   "execution_count": null,
   "metadata": {},
   "outputs": [],
   "source": []
  }
 ],
 "metadata": {
  "kernelspec": {
   "display_name": "Python 3.9.7 ('venv': venv)",
   "language": "python",
   "name": "python3"
  },
  "language_info": {
   "codemirror_mode": {
    "name": "ipython",
    "version": 3
   },
   "file_extension": ".py",
   "mimetype": "text/x-python",
   "name": "python",
   "nbconvert_exporter": "python",
   "pygments_lexer": "ipython3",
   "version": "3.11.6"
  },
  "orig_nbformat": 4,
  "vscode": {
   "interpreter": {
    "hash": "b918b2b0974b3df50d2cb6c751b8eaae1bb466aaf5007e6a0fab3d6d8f3e624b"
   }
  }
 },
 "nbformat": 4,
 "nbformat_minor": 2
}
